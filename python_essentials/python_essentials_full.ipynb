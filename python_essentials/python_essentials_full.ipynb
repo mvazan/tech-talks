{
 "cells": [
  {
   "attachments": {},
   "cell_type": "markdown",
   "metadata": {},
   "source": [
    "I want to talk about what I learned in the [LinkedIn Python Essential Training](https://www.linkedin.com/learning/python-essential-training-18764650/) I attended some time ago:\n",
    "\n",
    "The Python Essential Training course was very basic, on the other hand it provided me with some valuable insights. The course covered fundamental programming concepts, such as basic data structures, conditional statements, loops, functions, error handling, and so on. My motivation for creating this presentation was to share what I learned and to make a valuable refresher on some essential topics that, I believe, most of you already know.\n",
    "\n",
    "#### Topics:\n",
    "- comparison of basic data structures: list, tuple, set, dictionary\n",
    "- ^ well / less known examples\n",
    "- else after a loop\n",
    "- variables and scope: locales() and globales()\n",
    "- handling exceptions"
   ]
  },
  {
   "attachments": {},
   "cell_type": "markdown",
   "metadata": {},
   "source": [
    "#### List\n",
    "- like dynamic sized arrays\n",
    "- not need to be homogeneous\n",
    "- subscriptable\n",
    "- ordered\n",
    "- mutable\n",
    "- allows duplicate elements\n",
    "\n",
    "#### Tuple\n",
    "- immutable\n",
    "- more memory effiient like list, suitable for storing lots of simple structures like X, Y coordinates\n",
    "\n",
    "#### Set\n",
    "- unordered\n",
    "- doesn't allow duplicate elements\n",
    "\n",
    "#### Dictionary\n",
    "\n",
    "- unordered (3.6 & prior)\n",
    "- ordered (since Py 3.7)\n",
    "- holds key:value pair\n",
    "- doesn't allow duplicate keys"
   ]
  },
  {
   "cell_type": "code",
   "execution_count": null,
   "metadata": {},
   "outputs": [],
   "source": [
    "# List\n",
    "\n",
    "def append_plus_five(in_list: list) -> list:\n",
    "    func_list = in_list.copy()\n",
    "    for i in in_list:\n",
    "        func_list.append(i + 5)\n",
    "    return func_list\n",
    "\n",
    "input = [1, 2, 3, 4, 5]\n",
    "expected_output = [1, 2, 3, 4, 5, 6, 7, 8, 9, 10]\n",
    "\n",
    "actual_output = append_plus_five(input)\n",
    "\n",
    "print(f'input:           {input}')\n",
    "print(f'expected_output: {expected_output}')\n",
    "print(f'actual_output:   {actual_output}')\n",
    "assert actual_output == expected_output"
   ]
  },
  {
   "cell_type": "code",
   "execution_count": null,
   "metadata": {},
   "outputs": [],
   "source": [
    "a = [1, 2, 3, 4, 5]\n",
    "b = a\n",
    "a.append(6)\n",
    "print(a)\n",
    "print(b)"
   ]
  },
  {
   "cell_type": "code",
   "execution_count": null,
   "metadata": {},
   "outputs": [],
   "source": [
    "a = [1, 2, 3, 4, 5]\n",
    "b = a.copy()\n",
    "a.append(6)\n",
    "print(a)\n",
    "print(b)"
   ]
  },
  {
   "cell_type": "code",
   "execution_count": null,
   "metadata": {},
   "outputs": [],
   "source": [
    "# Tuple\n",
    "\n",
    "var = ('a', 2, 'c')\n",
    "print(type(var))"
   ]
  },
  {
   "cell_type": "code",
   "execution_count": null,
   "metadata": {},
   "outputs": [],
   "source": [
    "# Set\n",
    "\n",
    "sentence = 'Flee elf, flee!'\n",
    "sentence_characters = [char for char in sentence]\n",
    "\n",
    "print(sentence_characters)\n",
    "uniqe_sentence_characters = list(set(sentence_characters))\n",
    "print(uniqe_sentence_characters)"
   ]
  },
  {
   "cell_type": "code",
   "execution_count": null,
   "metadata": {},
   "outputs": [],
   "source": [
    "# Dictionary\n",
    "\n",
    "def cats_in_the_box(n: int) -> str:\n",
    "    return f\"{n} {'cat' if n == 1 else 'cats'} in the box\"\n",
    "\n",
    "cat_dict = {f\"key_{i}\": cats_in_the_box(i) for i in range(1, 6)}\n",
    "print(cat_dict)"
   ]
  },
  {
   "cell_type": "code",
   "execution_count": null,
   "metadata": {},
   "outputs": [],
   "source": [
    "# Defaultdict - without defaultdict\n",
    "\n",
    "animals = {'cats': 2, 'dogs': 5, 'horses': 1}\n",
    "\n",
    "print(animals['birds'])\n",
    "animals['birds'] += 1\n",
    "print(animals)\n",
    "\n",
    "if 'birds' in animals:\n",
    "    animals['birds'] += 1\n",
    "else:\n",
    "    animals['birds'] = 1\n",
    "\n",
    "print(animals)"
   ]
  },
  {
   "cell_type": "code",
   "execution_count": null,
   "metadata": {},
   "outputs": [],
   "source": [
    "# with defaultdict\n",
    "from collections import defaultdict\n",
    "\n",
    "animals = defaultdict(int, {'cats': 2, 'dogs': 5, 'horses': 1})\n",
    "print(animals)\n",
    "print(animals['birds'])\n",
    "\n",
    "animals['birds'] += 1\n",
    "print(animals)"
   ]
  },
  {
   "cell_type": "code",
   "execution_count": null,
   "metadata": {},
   "outputs": [],
   "source": [
    "# for ... else\n",
    "\n",
    "from typing import List\n",
    "\n",
    "divisible = 15\n",
    "not_divisible = 23\n",
    "divisors = [2, 3, 5, 7]\n",
    "\n",
    "def print_is_divisible(number: int, divisors: List[int]) -> None:\n",
    "    for divisor in divisors:\n",
    "        if number % divisor == 0:\n",
    "            print(f'{number} is divisible by {divisor}')\n",
    "            break\n",
    "    else:\n",
    "        print(f'{number} is not divisible by any number in the list')\n",
    "\n",
    "print_is_divisible(divisible, divisors)\n",
    "print_is_divisible(not_divisible, divisors)\n"
   ]
  },
  {
   "cell_type": "code",
   "execution_count": null,
   "metadata": {},
   "outputs": [],
   "source": [
    "# scope: locals() and globals()\n",
    "\n",
    "def my_function_1(varA, varB):\n",
    "    print(locals())\n",
    "\n",
    "def my_function_2(varC, varB):\n",
    "    print(locals())\n",
    "\n",
    "my_function_1(1, 2)\n",
    "my_function_2(3, 4)"
   ]
  },
  {
   "cell_type": "code",
   "execution_count": null,
   "metadata": {},
   "outputs": [],
   "source": [
    "globals()"
   ]
  },
  {
   "cell_type": "code",
   "execution_count": null,
   "metadata": {},
   "outputs": [],
   "source": [
    "message = 'Some global message'\n",
    "\n",
    "def my_function_1(varA, varB):\n",
    "    print(message)\n",
    "    print(locals())\n",
    "\n",
    "def my_function_2(varC, varB):\n",
    "    print(message)\n",
    "    print(locals())\n",
    "\n",
    "my_function_1(1, 2)\n",
    "my_function_2(3, 4)"
   ]
  },
  {
   "cell_type": "code",
   "execution_count": null,
   "metadata": {},
   "outputs": [],
   "source": [
    "message = 'Some global message'\n",
    "\n",
    "def my_function_1(varA, varB):\n",
    "    print(message)\n",
    "    print(locals())\n",
    "\n",
    "def my_function_2(varC, varB):\n",
    "    message = 'Some local message'\n",
    "    print(message)\n",
    "    print(locals())\n",
    "\n",
    "my_function_1(1, 2)\n",
    "my_function_2(3, 4)"
   ]
  },
  {
   "cell_type": "code",
   "execution_count": null,
   "metadata": {},
   "outputs": [],
   "source": [
    "varA = 'a'\n",
    "\n",
    "def my_function_1(varA, varB):\n",
    "    print(varA)\n",
    "    print(locals())\n",
    "\n",
    "def my_function_2(varC, varB):\n",
    "    print(varA)\n",
    "    print(locals())\n",
    "\n",
    "my_function_1(1, 2)\n",
    "my_function_2(3, 4)"
   ]
  },
  {
   "cell_type": "code",
   "execution_count": null,
   "metadata": {},
   "outputs": [],
   "source": [
    "# Exceptions\n",
    "\n",
    "try:\n",
    "    1 / 0\n",
    "except Exception as e:\n",
    "    print(type(e))"
   ]
  },
  {
   "cell_type": "code",
   "execution_count": null,
   "metadata": {},
   "outputs": [],
   "source": [
    "def causeException():\n",
    "    1 / 0\n",
    "\n",
    "def callCauseException():\n",
    "    causeException()\n",
    "\n",
    "def myFunction():\n",
    "    try:\n",
    "        callCauseException()\n",
    "    except ZeroDivisionError as e:\n",
    "        print('Handling a', type(e))\n",
    "        raise Exception('Handled the ZeroDivisionError') from e\n",
    "\n",
    "myFunction()"
   ]
  },
  {
   "cell_type": "code",
   "execution_count": null,
   "metadata": {},
   "outputs": [],
   "source": [
    "def causeException():\n",
    "    1 / 0\n",
    "\n",
    "def callCauseException():\n",
    "    causeException()\n",
    "\n",
    "def myFunction():\n",
    "    try:\n",
    "        callCauseException()\n",
    "    except ZeroDivisionError as e:\n",
    "        print('Handling a', type(e))\n",
    "        raise Exception('Handled the ZeroDivisionError') from None\n",
    "\n",
    "myFunction()"
   ]
  },
  {
   "attachments": {},
   "cell_type": "markdown",
   "metadata": {},
   "source": [
    "### Exceptions in AWS λ Example\n",
    "\n",
    "- use raise instead of raise Exception() to preserve the full stack trace"
   ]
  }
 ],
 "metadata": {
  "kernelspec": {
   "display_name": "Python 3",
   "language": "python",
   "name": "python3"
  },
  "language_info": {
   "codemirror_mode": {
    "name": "ipython",
    "version": 3
   },
   "file_extension": ".py",
   "mimetype": "text/x-python",
   "name": "python",
   "nbconvert_exporter": "python",
   "pygments_lexer": "ipython3",
   "version": "3.10.11"
  },
  "orig_nbformat": 4
 },
 "nbformat": 4,
 "nbformat_minor": 2
}
