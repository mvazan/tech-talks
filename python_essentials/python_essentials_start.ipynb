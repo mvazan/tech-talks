{
 "cells": [
  {
   "attachments": {},
   "cell_type": "markdown",
   "metadata": {},
   "source": [
    "### What I learned in the [LinkedIn Python Essential Training Course](https://www.linkedin.com/learning/python-essential-training-18764650/)\n",
    "\n",
    "#### Topics:\n",
    "- comparison of basic data structures: list, tuple, set, dictionary\n",
    "- ^ well / less known examples\n",
    "- else after a loop\n",
    "- variables and scope: locales() and globales()\n",
    "- handling exceptions"
   ]
  },
  {
   "cell_type": "code",
   "execution_count": null,
   "metadata": {},
   "outputs": [],
   "source": [
    "# List\n",
    "\n",
    "def append_plus_five(in_list: list) -> list:\n",
    "    func_list = in_list\n",
    "    # TODO: append five values to the list and return it\n",
    "    return func_list\n",
    "\n",
    "input = [1, 2, 3, 4, 5]\n",
    "expected_output = [1, 2, 3, 4, 5, 6, 7, 8, 9, 10]\n",
    "\n",
    "actual_output = append_plus_five(input)\n",
    "\n",
    "print(f'input:           {input}')\n",
    "print(f'expected_output: {expected_output}')\n",
    "print(f'actual_output:   {actual_output}')\n",
    "assert actual_output == expected_output"
   ]
  },
  {
   "cell_type": "code",
   "execution_count": null,
   "metadata": {},
   "outputs": [],
   "source": [
    "# Tuple\n",
    "\n",
    "var = ('a', 2, 'c')\n",
    "print(type(var))"
   ]
  },
  {
   "cell_type": "code",
   "execution_count": null,
   "metadata": {},
   "outputs": [],
   "source": [
    "# Set\n",
    "\n",
    "sentence = 'Flee elf, flee!'\n",
    "sentence_characters = [char for char in sentence]\n",
    "\n",
    "print(sentence_characters)\n",
    "uniqe_sentence_characters = # TODO: create a set of unique characters from sentence_characters\n",
    "print(uniqe_sentence_characters)"
   ]
  },
  {
   "cell_type": "code",
   "execution_count": null,
   "metadata": {},
   "outputs": [],
   "source": [
    "# Dictionary\n",
    "\n",
    "def cats_in_the_box(n: int) -> str:\n",
    "    return f\"{n} {'cat' if n == 1 else 'cats'} in the box\"\n",
    "\n",
    "cat_dict = # TODO: create a dictionary with the numbers 1 to 5 as keys and the return value of cats_in_the_box as values\n",
    "print(cat_dict)"
   ]
  },
  {
   "cell_type": "code",
   "execution_count": null,
   "metadata": {},
   "outputs": [],
   "source": [
    "# Defaultdict - without defaultdict\n",
    "\n",
    "animals = {'cats': 2, 'dogs': 5, 'horses': 1}\n",
    "\n",
    "# TODO: show how to work without defaultdict to create a dictionary with the keys 'cats', 'dogs', 'horses' and 'birds' and the values 2, 5, 1 and 1\n",
    "\n",
    "print(animals)"
   ]
  },
  {
   "cell_type": "code",
   "execution_count": null,
   "metadata": {},
   "outputs": [],
   "source": [
    "# with defaultdict\n",
    "\n",
    "from collections import defaultdict\n",
    "\n",
    "animals = defaultdict(int)\n",
    "\n",
    "# TODO: show how to use defaultdict to create a dictionary with the keys 'cats', 'dogs', 'horses' and 'birds' and the values 2, 5, 1 and 1\n",
    "\n",
    "print(animals)"
   ]
  },
  {
   "cell_type": "code",
   "execution_count": null,
   "metadata": {},
   "outputs": [],
   "source": [
    "# for ... else\n",
    "\n",
    "from typing import List\n",
    "\n",
    "divisible = 15\n",
    "not_divisible = 23\n",
    "divisors = [2, 3, 5, 7]\n",
    "\n",
    "def print_is_divisible(number: int, divisors: List[int]) -> None:\n",
    "    is_divisible = False\n",
    "\n",
    "    for divisor in divisors:\n",
    "        if number % divisor == 0:\n",
    "            print(f'{number} is divisible by {divisor}')\n",
    "            is_divisible = True\n",
    "            break\n",
    "\n",
    "    if not is_divisible:\n",
    "        print(f'{number} is not divisible by any number in the list')\n",
    "\n",
    "print_is_divisible(divisible, divisors)\n",
    "print_is_divisible(not_divisible, divisors)\n"
   ]
  },
  {
   "cell_type": "code",
   "execution_count": null,
   "metadata": {},
   "outputs": [],
   "source": [
    "# scope: locals() and globals()\n",
    "\n",
    "# TODO: show some examples"
   ]
  },
  {
   "cell_type": "code",
   "execution_count": null,
   "metadata": {},
   "outputs": [],
   "source": [
    "# Exceptions\n",
    "\n",
    "try:\n",
    "    1 / 0\n",
    "except Exception as e:\n",
    "    # TODO: print the type of the exception"
   ]
  },
  {
   "cell_type": "code",
   "execution_count": null,
   "metadata": {},
   "outputs": [],
   "source": [
    "def causeException():\n",
    "    1 / 0\n",
    "\n",
    "def callCauseException():\n",
    "    causeException()\n",
    "\n",
    "def myFunction():\n",
    "    try:\n",
    "        callCauseException()\n",
    "    except ZeroDivisionError as e:\n",
    "        print('Handling a', type(e))\n",
    "        raise Exception('Handled the ZeroDivisionError')\n",
    "\n",
    "myFunction()"
   ]
  },
  {
   "attachments": {},
   "cell_type": "markdown",
   "metadata": {},
   "source": [
    "### Exceptions in AWS λ Example\n",
    "\n",
    "- use raise instead of raise Exception() to preserve the full stack trace"
   ]
  }
 ],
 "metadata": {
  "kernelspec": {
   "display_name": "Python 3",
   "language": "python",
   "name": "python3"
  },
  "language_info": {
   "codemirror_mode": {
    "name": "ipython",
    "version": 3
   },
   "file_extension": ".py",
   "mimetype": "text/x-python",
   "name": "python",
   "nbconvert_exporter": "python",
   "pygments_lexer": "ipython3",
   "version": "3.10.11"
  },
  "orig_nbformat": 4
 },
 "nbformat": 4,
 "nbformat_minor": 2
}
